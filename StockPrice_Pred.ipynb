{
  "nbformat": 4,
  "nbformat_minor": 0,
  "metadata": {
    "kernelspec": {
      "display_name": "Python 3",
      "language": "python",
      "name": "python3"
    },
    "language_info": {
      "codemirror_mode": {
        "name": "ipython",
        "version": 3
      },
      "file_extension": ".py",
      "mimetype": "text/x-python",
      "name": "python",
      "nbconvert_exporter": "python",
      "pygments_lexer": "ipython3",
      "version": "3.6.10"
    },
    "colab": {
      "name": "Pred_StockPrice.ipynb",
      "provenance": [],
      "collapsed_sections": []
    }
  },
  "cells": [
    {
      "cell_type": "code",
      "metadata": {
        "id": "O2chnCPN_k6-"
      },
      "source": [
        "import pandas as pd\n",
        "import matplotlib.pyplot as plt\n",
        "import numpy as np"
      ],
      "execution_count": 33,
      "outputs": []
    },
    {
      "cell_type": "code",
      "metadata": {
        "colab": {
          "base_uri": "https://localhost:8080/"
        },
        "id": "2nQ9e7RlAjO7",
        "outputId": "70324154-f33c-4668-9853-f3da5c8b967d"
      },
      "source": [
        "from google.colab import drive\n",
        "drive.mount('/content/drive')"
      ],
      "execution_count": 34,
      "outputs": [
        {
          "output_type": "stream",
          "text": [
            "Drive already mounted at /content/drive; to attempt to forcibly remount, call drive.mount(\"/content/drive\", force_remount=True).\n"
          ],
          "name": "stdout"
        }
      ]
    },
    {
      "cell_type": "code",
      "metadata": {
        "colab": {
          "base_uri": "https://localhost:8080/",
          "height": 203
        },
        "id": "JXp2Ja6t_k7A",
        "outputId": "34b6e1cf-9f77-406f-c5d7-436c0b34d564"
      },
      "source": [
        "df = pd.read_csv(\"/content/drive/MyDrive/Colab Notebooks/Projects/Stock Price Prediction/Stock_data.csv\")\n",
        "df.head()"
      ],
      "execution_count": 36,
      "outputs": [
        {
          "output_type": "execute_result",
          "data": {
            "text/html": [
              "<div>\n",
              "<style scoped>\n",
              "    .dataframe tbody tr th:only-of-type {\n",
              "        vertical-align: middle;\n",
              "    }\n",
              "\n",
              "    .dataframe tbody tr th {\n",
              "        vertical-align: top;\n",
              "    }\n",
              "\n",
              "    .dataframe thead th {\n",
              "        text-align: right;\n",
              "    }\n",
              "</style>\n",
              "<table border=\"1\" class=\"dataframe\">\n",
              "  <thead>\n",
              "    <tr style=\"text-align: right;\">\n",
              "      <th></th>\n",
              "      <th>Date</th>\n",
              "      <th>Open</th>\n",
              "      <th>High</th>\n",
              "      <th>Low</th>\n",
              "      <th>Close</th>\n",
              "      <th>Adj Close</th>\n",
              "      <th>Volume</th>\n",
              "    </tr>\n",
              "  </thead>\n",
              "  <tbody>\n",
              "    <tr>\n",
              "      <th>0</th>\n",
              "      <td>2015-09-16</td>\n",
              "      <td>29.062500</td>\n",
              "      <td>29.135000</td>\n",
              "      <td>28.860001</td>\n",
              "      <td>29.102501</td>\n",
              "      <td>26.894033</td>\n",
              "      <td>148694000</td>\n",
              "    </tr>\n",
              "    <tr>\n",
              "      <th>1</th>\n",
              "      <td>2015-09-17</td>\n",
              "      <td>28.915001</td>\n",
              "      <td>29.122499</td>\n",
              "      <td>28.430000</td>\n",
              "      <td>28.480000</td>\n",
              "      <td>26.318771</td>\n",
              "      <td>256450400</td>\n",
              "    </tr>\n",
              "    <tr>\n",
              "      <th>2</th>\n",
              "      <td>2015-09-18</td>\n",
              "      <td>28.052500</td>\n",
              "      <td>28.575001</td>\n",
              "      <td>27.967501</td>\n",
              "      <td>28.362499</td>\n",
              "      <td>26.210186</td>\n",
              "      <td>297141200</td>\n",
              "    </tr>\n",
              "    <tr>\n",
              "      <th>3</th>\n",
              "      <td>2015-09-21</td>\n",
              "      <td>28.417500</td>\n",
              "      <td>28.842501</td>\n",
              "      <td>28.415001</td>\n",
              "      <td>28.802500</td>\n",
              "      <td>26.616798</td>\n",
              "      <td>200888000</td>\n",
              "    </tr>\n",
              "    <tr>\n",
              "      <th>4</th>\n",
              "      <td>2015-09-22</td>\n",
              "      <td>28.344999</td>\n",
              "      <td>28.545000</td>\n",
              "      <td>28.129999</td>\n",
              "      <td>28.350000</td>\n",
              "      <td>26.198639</td>\n",
              "      <td>201384800</td>\n",
              "    </tr>\n",
              "  </tbody>\n",
              "</table>\n",
              "</div>"
            ],
            "text/plain": [
              "         Date       Open       High        Low      Close  Adj Close     Volume\n",
              "0  2015-09-16  29.062500  29.135000  28.860001  29.102501  26.894033  148694000\n",
              "1  2015-09-17  28.915001  29.122499  28.430000  28.480000  26.318771  256450400\n",
              "2  2015-09-18  28.052500  28.575001  27.967501  28.362499  26.210186  297141200\n",
              "3  2015-09-21  28.417500  28.842501  28.415001  28.802500  26.616798  200888000\n",
              "4  2015-09-22  28.344999  28.545000  28.129999  28.350000  26.198639  201384800"
            ]
          },
          "metadata": {},
          "execution_count": 36
        }
      ]
    },
    {
      "cell_type": "code",
      "metadata": {
        "id": "gRPQj9a4_k7C"
      },
      "source": [
        "df.set_index(\"Date\", drop=True,inplace =True)"
      ],
      "execution_count": 37,
      "outputs": []
    },
    {
      "cell_type": "code",
      "metadata": {
        "colab": {
          "base_uri": "https://localhost:8080/",
          "height": 282
        },
        "id": "6hYpAvSW_k7D",
        "outputId": "2b844607-078e-4ea5-aebf-11c827c11261"
      },
      "source": [
        "df1 = df.reset_index()[['Close']]\n",
        "plt.plot(df1)"
      ],
      "execution_count": 38,
      "outputs": [
        {
          "output_type": "execute_result",
          "data": {
            "text/plain": [
              "[<matplotlib.lines.Line2D at 0x7f575e99ef10>]"
            ]
          },
          "metadata": {},
          "execution_count": 38
        },
        {
          "output_type": "display_data",
          "data": {
            "image/png": "[encoded data removed]",
            "text/plain": [
              "<Figure size 432x288 with 1 Axes>"
            ]
          },
          "metadata": {
            "needs_background": "light"
          }
        }
      ]
    },
    {
      "cell_type": "code",
      "metadata": {
        "id": "Ri7n1YpU_k7E"
      },
      "source": [
        "type(df1)\n",
        "df=df1"
      ],
      "execution_count": 39,
      "outputs": []
    },
    {
      "cell_type": "code",
      "metadata": {
        "id": "6EHQvcSG_k7E"
      },
      "source": [
        "df[\"returns\"] = df.Close.pct_change()\n",
        "df.head()\n",
        "df[\"log_returns\"]= np.log(1+df[\"returns\"])"
      ],
      "execution_count": 40,
      "outputs": []
    },
    {
      "cell_type": "code",
      "metadata": {
        "id": "QJ_9UmCh_k7F"
      },
      "source": [
        "df.dropna(inplace=True)"
      ],
      "execution_count": 41,
      "outputs": []
    },
    {
      "cell_type": "code",
      "metadata": {
        "id": "xAdFQt0h_k7G"
      },
      "source": [
        "X = df[[\"Close\", \"log_returns\"]].values"
      ],
      "execution_count": 42,
      "outputs": []
    },
    {
      "cell_type": "code",
      "metadata": {
        "colab": {
          "base_uri": "https://localhost:8080/"
        },
        "id": "VIH3qYms_k7G",
        "outputId": "92200421-cece-43fc-f40a-8e0d19d08adf"
      },
      "source": [
        "from sklearn.preprocessing import MinMaxScaler\n",
        "scaler = MinMaxScaler(feature_range=(0,1)).fit(X)\n",
        "X_scaled =scaler.transform(X)\n",
        "X_scaled[:10]"
      ],
      "execution_count": 43,
      "outputs": [
        {
          "output_type": "execute_result",
          "data": {
            "text/plain": [
              "array([[0.05282496, 0.46274201],\n",
              "       [0.05177204, 0.5324517 ],\n",
              "       [0.05571487, 0.61029678],\n",
              "       [0.05166003, 0.48580963],\n",
              "       [0.05372106, 0.58114079],\n",
              "       [0.05524442, 0.57257227],\n",
              "       [0.05459475, 0.53886688],\n",
              "       [0.04950941, 0.46925788],\n",
              "       [0.04193737, 0.42726643],\n",
              "       [0.04471529, 0.59399894]])"
            ]
          },
          "metadata": {},
          "execution_count": 43
        }
      ]
    },
    {
      "cell_type": "code",
      "metadata": {
        "colab": {
          "base_uri": "https://localhost:8080/",
          "height": 282
        },
        "id": "ifG0bQjv_k7I",
        "outputId": "a44375ef-0c2f-4343-8d3e-b972ee4ec1ff"
      },
      "source": [
        "plt.figure(1, figsize= (16,4))\n",
        "plt.plot(df.log_returns)"
      ],
      "execution_count": 44,
      "outputs": [
        {
          "output_type": "execute_result",
          "data": {
            "text/plain": [
              "[<matplotlib.lines.Line2D at 0x7f575e93bf90>]"
            ]
          },
          "metadata": {},
          "execution_count": 44
        },
        {
          "output_type": "display_data",
          "data": {
            "image/png": "[encoded data removed]",
            "text/plain": [
              "<Figure size 1152x288 with 1 Axes>"
            ]
          },
          "metadata": {
            "needs_background": "light"
          }
        }
      ]
    },
    {
      "cell_type": "code",
      "metadata": {
        "colab": {
          "base_uri": "https://localhost:8080/"
        },
        "id": "kLOQlBF7_k7J",
        "outputId": "20c90eaa-66a6-4b84-d575-5221258a0f10"
      },
      "source": [
        "y = [X[0] for X in X_scaled]\n",
        "y[:5]"
      ],
      "execution_count": 45,
      "outputs": [
        {
          "output_type": "execute_result",
          "data": {
            "text/plain": [
              "[0.0528249591554259,\n",
              " 0.05177203558073579,\n",
              " 0.05571487373349382,\n",
              " 0.051660032348762874,\n",
              " 0.05372105669901284]"
            ]
          },
          "metadata": {},
          "execution_count": 45
        }
      ]
    },
    {
      "cell_type": "code",
      "metadata": {
        "id": "H5NVhWlg_k7K"
      },
      "source": [
        "from sklearn.model_selection import train_test_split\n",
        "X_train,X_vali,y_train,y_vali = train_test_split(X_scaled,y, test_size=0.2)"
      ],
      "execution_count": 46,
      "outputs": []
    },
    {
      "cell_type": "code",
      "metadata": {
        "id": "PHJO1TKG_k7L"
      },
      "source": [
        "X_valid = X_vali[:221,:]\n",
        "y_valid = y_vali[:221]\n",
        "X_test = X_vali[222:,:]\n",
        "y_test = y_vali[222:]"
      ],
      "execution_count": 47,
      "outputs": []
    },
    {
      "cell_type": "code",
      "metadata": {
        "id": "IlGw5VQ-_k7M"
      },
      "source": [
        "n=10;\n",
        "Xtrain=[]\n",
        "Ytrain=[]\n",
        "Xvalid=[]\n",
        "Yvalid=[]\n",
        "Xtest=[]\n",
        "Ytest=[]"
      ],
      "execution_count": 48,
      "outputs": []
    },
    {
      "cell_type": "code",
      "metadata": {
        "id": "i1VqOoHU_k7M"
      },
      "source": [
        "for i in range(n,len(X_train)):\n",
        "    Xtrain.append(X_train[i-n : i, : X_train.shape[1]])\n",
        "    Ytrain.append(y_train[i])\n",
        "    \n",
        "for i in range(n,len(X_test)):\n",
        "    Xtest.append(X_test[i-n : i, : X_test.shape[1]])\n",
        "    Ytest.append(y_test[i])\n",
        "    \n",
        "for i in range(n,len(X_valid)):\n",
        "    Xvalid.append(X_valid[i-n : i, : X_valid.shape[1]])\n",
        "    Yvalid.append(y_valid[i])"
      ],
      "execution_count": 49,
      "outputs": []
    },
    {
      "cell_type": "code",
      "metadata": {
        "id": "-D64fVtE_k7N"
      },
      "source": [
        "Xtrain, Ytrain = (np.array(Xtrain),np.array(Ytrain))\n",
        "Xtrain= np.reshape(Xtrain, (Xtrain.shape[0],Xtrain.shape[1],Xtrain.shape[2]))"
      ],
      "execution_count": 51,
      "outputs": []
    },
    {
      "cell_type": "code",
      "metadata": {
        "id": "MXIV49Nh_k7O"
      },
      "source": [
        "Xtest,Ytest = (np.array(Xtest),np.array(Ytest))\n",
        "Xtest= np.reshape(Xtest, (Xtest.shape[0],Xtest.shape[1],Xtest.shape[2]))"
      ],
      "execution_count": 52,
      "outputs": []
    },
    {
      "cell_type": "code",
      "metadata": {
        "id": "o_9fnuGQ_k7P"
      },
      "source": [
        "Xvalid,Yvalid = (np.array(Xvalid),np.array(Yvalid))\n",
        "Xvalid= np.reshape(Xvalid, (Xvalid.shape[0],Xvalid.shape[1],Xvalid.shape[2]))"
      ],
      "execution_count": 53,
      "outputs": []
    },
    {
      "cell_type": "code",
      "metadata": {
        "colab": {
          "base_uri": "https://localhost:8080/"
        },
        "id": "Pw0Lk-Xh_k7Q",
        "outputId": "83425abd-ff53-4888-b7f2-62a2a8d24f39"
      },
      "source": [
        "X_test.shape, X_train.shape, X_valid.shape"
      ],
      "execution_count": 54,
      "outputs": [
        {
          "output_type": "execute_result",
          "data": {
            "text/plain": [
              "((30, 2), (1006, 2), (221, 2))"
            ]
          },
          "metadata": {},
          "execution_count": 54
        }
      ]
    },
    {
      "cell_type": "code",
      "metadata": {
        "colab": {
          "base_uri": "https://localhost:8080/"
        },
        "id": "9vw6cnsK_k7R",
        "outputId": "437da8da-bc41-461d-ae4b-2ddc7b64d861"
      },
      "source": [
        "Xtrain.shape,Xtest.shape,Xvalid.shape"
      ],
      "execution_count": 55,
      "outputs": [
        {
          "output_type": "execute_result",
          "data": {
            "text/plain": [
              "((996, 10, 2), (20, 10, 2), (211, 10, 2))"
            ]
          },
          "metadata": {},
          "execution_count": 55
        }
      ]
    },
    {
      "cell_type": "code",
      "metadata": {
        "id": "R9vbt4QI_k7T"
      },
      "source": [
        "## LSTM mode\n",
        "from keras.models import Sequential\n",
        "from keras.layers import LSTM, Dense"
      ],
      "execution_count": 56,
      "outputs": []
    },
    {
      "cell_type": "code",
      "metadata": {
        "id": "FJl9F0mp_k7U"
      },
      "source": [
        "model=Sequential()\n",
        "model.add(LSTM(50,return_sequences=True,input_shape=(10,2)))\n",
        "model.add(LSTM(50,return_sequences=True))\n",
        "model.add(LSTM(50))\n",
        "model.add(Dense(1))\n",
        "model.compile(loss='mean_squared_error',optimizer='adam')"
      ],
      "execution_count": 57,
      "outputs": []
    },
    {
      "cell_type": "code",
      "metadata": {
        "colab": {
          "base_uri": "https://localhost:8080/"
        },
        "id": "nP2dHfny_k7V",
        "outputId": "c4ebdb67-8de0-48b6-e2e9-fea5384f53bb"
      },
      "source": [
        "model.fit(Xtrain,Ytrain,epochs= 30, validation_data=(Xvalid,Yvalid),batch_size= 20,verbose=1)"
      ],
      "execution_count": 58,
      "outputs": [
        {
          "output_type": "stream",
          "text": [
            "Epoch 1/30\n",
            "50/50 [==============================] - 7s 41ms/step - loss: 0.0354 - val_loss: 0.0364\n",
            "Epoch 2/30\n",
            "50/50 [==============================] - 1s 17ms/step - loss: 0.0318 - val_loss: 0.0365\n",
            "Epoch 3/30\n",
            "50/50 [==============================] - 1s 18ms/step - loss: 0.0319 - val_loss: 0.0366\n",
            "Epoch 4/30\n",
            "50/50 [==============================] - 1s 18ms/step - loss: 0.0320 - val_loss: 0.0364\n",
            "Epoch 5/30\n",
            "50/50 [==============================] - 1s 18ms/step - loss: 0.0320 - val_loss: 0.0368\n",
            "Epoch 6/30\n",
            "50/50 [==============================] - 1s 18ms/step - loss: 0.0320 - val_loss: 0.0364\n",
            "Epoch 7/30\n",
            "50/50 [==============================] - 1s 17ms/step - loss: 0.0322 - val_loss: 0.0367\n",
            "Epoch 8/30\n",
            "50/50 [==============================] - 1s 17ms/step - loss: 0.0320 - val_loss: 0.0390\n",
            "Epoch 9/30\n",
            "50/50 [==============================] - 1s 17ms/step - loss: 0.0323 - val_loss: 0.0364\n",
            "Epoch 10/30\n",
            "50/50 [==============================] - 1s 17ms/step - loss: 0.0321 - val_loss: 0.0364\n",
            "Epoch 11/30\n",
            "50/50 [==============================] - 1s 18ms/step - loss: 0.0320 - val_loss: 0.0367\n",
            "Epoch 12/30\n",
            "50/50 [==============================] - 1s 18ms/step - loss: 0.0318 - val_loss: 0.0363\n",
            "Epoch 13/30\n",
            "50/50 [==============================] - 1s 18ms/step - loss: 0.0317 - val_loss: 0.0364\n",
            "Epoch 14/30\n",
            "50/50 [==============================] - 1s 18ms/step - loss: 0.0319 - val_loss: 0.0368\n",
            "Epoch 15/30\n",
            "50/50 [==============================] - 1s 18ms/step - loss: 0.0319 - val_loss: 0.0368\n",
            "Epoch 16/30\n",
            "50/50 [==============================] - 1s 17ms/step - loss: 0.0318 - val_loss: 0.0370\n",
            "Epoch 17/30\n",
            "50/50 [==============================] - 1s 18ms/step - loss: 0.0321 - val_loss: 0.0363\n",
            "Epoch 18/30\n",
            "50/50 [==============================] - 1s 18ms/step - loss: 0.0321 - val_loss: 0.0363\n",
            "Epoch 19/30\n",
            "50/50 [==============================] - 1s 18ms/step - loss: 0.0318 - val_loss: 0.0363\n",
            "Epoch 20/30\n",
            "50/50 [==============================] - 1s 18ms/step - loss: 0.0317 - val_loss: 0.0364\n",
            "Epoch 21/30\n",
            "50/50 [==============================] - 1s 18ms/step - loss: 0.0318 - val_loss: 0.0365\n",
            "Epoch 22/30\n",
            "50/50 [==============================] - 1s 18ms/step - loss: 0.0316 - val_loss: 0.0366\n",
            "Epoch 23/30\n",
            "50/50 [==============================] - 1s 18ms/step - loss: 0.0321 - val_loss: 0.0365\n",
            "Epoch 24/30\n",
            "50/50 [==============================] - 1s 17ms/step - loss: 0.0318 - val_loss: 0.0363\n",
            "Epoch 25/30\n",
            "50/50 [==============================] - 1s 17ms/step - loss: 0.0318 - val_loss: 0.0364\n",
            "Epoch 26/30\n",
            "50/50 [==============================] - 1s 18ms/step - loss: 0.0317 - val_loss: 0.0363\n",
            "Epoch 27/30\n",
            "50/50 [==============================] - 1s 17ms/step - loss: 0.0317 - val_loss: 0.0363\n",
            "Epoch 28/30\n",
            "50/50 [==============================] - 1s 17ms/step - loss: 0.0317 - val_loss: 0.0367\n",
            "Epoch 29/30\n",
            "50/50 [==============================] - 1s 18ms/step - loss: 0.0318 - val_loss: 0.0363\n",
            "Epoch 30/30\n",
            "50/50 [==============================] - 1s 18ms/step - loss: 0.0318 - val_loss: 0.0364\n"
          ],
          "name": "stdout"
        },
        {
          "output_type": "execute_result",
          "data": {
            "text/plain": [
              "<keras.callbacks.History at 0x7f575e76ca10>"
            ]
          },
          "metadata": {},
          "execution_count": 58
        }
      ]
    },
    {
      "cell_type": "code",
      "metadata": {
        "id": "qfr6STNr_k7X"
      },
      "source": [
        "train_pred = model.predict(Xtrain)\n",
        "test_pred =  model.predict(Xtest)\n",
        "train_pred = np.c_[train_pred,np.zeros(train_pred.shape)]\n",
        "test_pred = np.c_[test_pred,np.zeros(test_pred.shape)]"
      ],
      "execution_count": 59,
      "outputs": []
    },
    {
      "cell_type": "code",
      "metadata": {
        "id": "W_igIJW2_k7Y"
      },
      "source": [
        "trainPredict = scaler.inverse_transform(train_pred)\n",
        "trainpred = [x[0] for x in trainPredict]\n",
        "testPredict = scaler.inverse_transform(test_pred)\n",
        "testpred = [x[0] for x in testPredict]"
      ],
      "execution_count": 60,
      "outputs": []
    },
    {
      "cell_type": "code",
      "metadata": {
        "colab": {
          "base_uri": "https://localhost:8080/"
        },
        "id": "VK0OFyuf_k7Y",
        "outputId": "6bf55bb1-fcb3-42d3-9995-fddcb6182de6"
      },
      "source": [
        "print(testpred[:10])\n",
        "print(testpred)"
      ],
      "execution_count": 61,
      "outputs": [
        {
          "output_type": "stream",
          "text": [
            "[47.771161681269085, 47.70363983003688, 47.51345785536075, 47.47795005855343, 47.3785372071259, 47.303181457576876, 47.356241111046074, 47.44611892257789, 47.67292117081234, 47.69860624688998]\n",
            "[47.771161681269085, 47.70363983003688, 47.51345785536075, 47.47795005855343, 47.3785372071259, 47.303181457576876, 47.356241111046074, 47.44611892257789, 47.67292117081234, 47.69860624688998, 47.80982066409007, 48.00788309814286, 47.869782994679454, 47.796509189662935, 47.634375264850945, 47.4718405823454, 47.45774255858609, 47.54886421557343, 47.608139770530286, 47.74925969130284]\n"
          ],
          "name": "stdout"
        }
      ]
    },
    {
      "cell_type": "code",
      "metadata": {
        "id": "VP3FBGXQ_k7Z"
      },
      "source": [
        "from sklearn.metrics import mean_squared_error"
      ],
      "execution_count": 62,
      "outputs": []
    },
    {
      "cell_type": "code",
      "metadata": {
        "colab": {
          "base_uri": "https://localhost:8080/"
        },
        "id": "gQcb4Gs9_k7Z",
        "outputId": "e0ac258a-319b-473d-8cb9-fe15b7106b52"
      },
      "source": [
        "print(\"Root mean Square error= \")\n",
        "testScore = np.sqrt(mean_squared_error([x[0][0] for x in Xtest], testpred,squared=False))\n",
        "testScore"
      ],
      "execution_count": 63,
      "outputs": [
        {
          "output_type": "stream",
          "text": [
            "Root mean Square error= \n"
          ],
          "name": "stdout"
        },
        {
          "output_type": "execute_result",
          "data": {
            "text/plain": [
              "6.887885952630875"
            ]
          },
          "metadata": {},
          "execution_count": 63
        }
      ]
    }
  ]
}